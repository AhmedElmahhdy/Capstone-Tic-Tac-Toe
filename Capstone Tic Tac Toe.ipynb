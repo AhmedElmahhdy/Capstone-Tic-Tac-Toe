{
 "cells": [
  {
   "cell_type": "code",
   "execution_count": 10,
   "id": "9bb05db0",
   "metadata": {},
   "outputs": [],
   "source": [
    "board = [\n",
    "   [' ',' ',' '],\n",
    "   [' ',' ',' '],\n",
    "   [' ',' ',' ']\n",
    "]"
   ]
  },
  {
   "cell_type": "code",
   "execution_count": 11,
   "id": "520d17b5",
   "metadata": {},
   "outputs": [],
   "source": [
    "def print_board(board):\n",
    "    for row in board:\n",
    "        print(\"|\".join(row))\n",
    "        print(\"-\" * 5)"
   ]
  },
  {
   "cell_type": "code",
   "execution_count": 12,
   "id": "60e85965",
   "metadata": {},
   "outputs": [
    {
     "name": "stdout",
     "output_type": "stream",
     "text": [
      " | | \n",
      "-----\n",
      " | | \n",
      "-----\n",
      " | | \n",
      "-----\n"
     ]
    }
   ],
   "source": [
    "print_board(board)"
   ]
  },
  {
   "cell_type": "code",
   "execution_count": 13,
   "id": "05fae652",
   "metadata": {},
   "outputs": [],
   "source": [
    "def check_win(board, symbol):\n",
    "    for row in board:\n",
    "        if all (square == symbol for square in row ):\n",
    "            return True\n",
    "        "
   ]
  },
  {
   "cell_type": "code",
   "execution_count": null,
   "id": "bd4106df",
   "metadata": {},
   "outputs": [
    {
     "name": "stdout",
     "output_type": "stream",
     "text": [
      "======================\n",
      " | | \n",
      "-----\n",
      " | | \n",
      "-----\n",
      " | | \n",
      "-----\n",
      "Invalid input! Please enter row and column numbers between 0 and 2.\n"
     ]
    }
   ],
   "source": [
    "def print_board(board):\n",
    "    \"\"\"\n",
    "    Print the Tic Tac Toe board to the console.\n",
    "    \"\"\"\n",
    "    for row in board:\n",
    "        print(\"|\".join(row))\n",
    "        print(\"-\" * 5)\n",
    "\n",
    "def check_win(board, symbol):\n",
    "    \"\"\"\n",
    "    Check if the player with the given symbol has won.\n",
    "    \"\"\"\n",
    "    # Check rows\n",
    "    for row in board:\n",
    "        if all(square == symbol for square in row):\n",
    "            return True\n",
    "    # Check columns\n",
    "    for col in range(3):\n",
    "        if all(board[row][col] == symbol for row in range(3)):\n",
    "            return True\n",
    "    # Check diagonals\n",
    "    if all(board[i][i] == symbol for i in range(3)) or all(board[i][2-i] == symbol for i in range(3)):\n",
    "        return True\n",
    "    return False\n",
    "\n",
    "def check_tie(board):\n",
    "    \"\"\"\n",
    "    Check if the game is a tie.\n",
    "    \"\"\"\n",
    "    return all(square != \" \" for row in board for square in row)\n",
    "\n",
    "def player_move(board, symbol):\n",
    "    \"\"\"\n",
    "    Prompt the player for their move and update the board.\n",
    "    \"\"\"\n",
    "    while True:\n",
    "        try:\n",
    "            row, col = map(int, input(f\"Player {symbol}, enter your move (row column): \").split())\n",
    "            if board[row][col] == \" \":\n",
    "                board[row][col] = symbol\n",
    "                break\n",
    "            else:\n",
    "                print(\"That square is already taken!\")\n",
    "        except (ValueError, IndexError):\n",
    "            print(\"Invalid input! Please enter row and column numbers between 0 and 2.\")\n",
    "\n",
    "def main():\n",
    "    # Initialize the board\n",
    "    board = [[\" \" for _ in range(3)] for _ in range(3)]\n",
    "\n",
    "    # Start the game loop\n",
    "    current_player = \"X\"\n",
    "    while True:\n",
    "        # Print the board\n",
    "        print(\"======================\")\n",
    "        print_board(board)\n",
    "\n",
    "        # Get the player's move\n",
    "        player_move(board, current_player)\n",
    "\n",
    "        # Check for win\n",
    "        if check_win(board, current_player):\n",
    "            print(\"======================\")\n",
    "            print_board(board)\n",
    "            print(f\"Player {current_player} wins!\")\n",
    "            break\n",
    "\n",
    "        # Check for tie\n",
    "        if check_tie(board):\n",
    "            print_board(board)\n",
    "            print(\"======================\")\n",
    "            print(\"It's a tie!\")\n",
    "            break\n",
    "\n",
    "        # Switch player\n",
    "        current_player = \"O\" if current_player == \"X\" else \"X\"\n",
    "\n",
    "if __name__ == \"__main__\":\n",
    "    main()\n"
   ]
  },
  {
   "cell_type": "code",
   "execution_count": null,
   "id": "41e98e4d",
   "metadata": {},
   "outputs": [],
   "source": [
    "# 0 0 | 0 1 | 0 2\n",
    "# ----------------\n",
    "# 1 0 | 1 1 | 1 2\n",
    "# ----------------\n",
    "# 2 0 | 2 1 | 2 2 \n",
    "# ----------------\n"
   ]
  }
 ],
 "metadata": {
  "kernelspec": {
   "display_name": "base",
   "language": "python",
   "name": "python3"
  },
  "language_info": {
   "codemirror_mode": {
    "name": "ipython",
    "version": 3
   },
   "file_extension": ".py",
   "mimetype": "text/x-python",
   "name": "python",
   "nbconvert_exporter": "python",
   "pygments_lexer": "ipython3",
   "version": "3.11.4"
  }
 },
 "nbformat": 4,
 "nbformat_minor": 5
}
